{
 "cells": [
  {
   "cell_type": "markdown",
   "metadata": {},
   "source": [
    "# How Markets Really Work "
   ]
  },
  {
   "cell_type": "code",
   "execution_count": 1,
   "metadata": {},
   "outputs": [],
   "source": [
    "import pandas as pd"
   ]
  },
  {
   "cell_type": "code",
   "execution_count": 2,
   "metadata": {},
   "outputs": [],
   "source": [
    "import matplotlib.pyplot as plt"
   ]
  },
  {
   "cell_type": "code",
   "execution_count": 3,
   "metadata": {},
   "outputs": [],
   "source": [
    "import pickle"
   ]
  },
  {
   "cell_type": "markdown",
   "metadata": {},
   "source": [
    "# Transform Data Into DataFrame "
   ]
  },
  {
   "cell_type": "markdown",
   "metadata": {},
   "source": [
    "## SPX"
   ]
  },
  {
   "cell_type": "code",
   "execution_count": 4,
   "metadata": {},
   "outputs": [],
   "source": [
    "spx = pd.read_csv('^GSPC.csv', index_col=0, parse_dates=True)"
   ]
  },
  {
   "cell_type": "code",
   "execution_count": 5,
   "metadata": {},
   "outputs": [
    {
     "data": {
      "text/html": [
       "<div>\n",
       "<style scoped>\n",
       "    .dataframe tbody tr th:only-of-type {\n",
       "        vertical-align: middle;\n",
       "    }\n",
       "\n",
       "    .dataframe tbody tr th {\n",
       "        vertical-align: top;\n",
       "    }\n",
       "\n",
       "    .dataframe thead th {\n",
       "        text-align: right;\n",
       "    }\n",
       "</style>\n",
       "<table border=\"1\" class=\"dataframe\">\n",
       "  <thead>\n",
       "    <tr style=\"text-align: right;\">\n",
       "      <th></th>\n",
       "      <th>Open</th>\n",
       "      <th>High</th>\n",
       "      <th>Low</th>\n",
       "      <th>Close</th>\n",
       "      <th>Adj Close</th>\n",
       "      <th>Volume</th>\n",
       "    </tr>\n",
       "    <tr>\n",
       "      <th>Date</th>\n",
       "      <th></th>\n",
       "      <th></th>\n",
       "      <th></th>\n",
       "      <th></th>\n",
       "      <th></th>\n",
       "      <th></th>\n",
       "    </tr>\n",
       "  </thead>\n",
       "  <tbody>\n",
       "    <tr>\n",
       "      <th>1927-12-30</th>\n",
       "      <td>17.660000</td>\n",
       "      <td>17.660000</td>\n",
       "      <td>17.660000</td>\n",
       "      <td>17.660000</td>\n",
       "      <td>17.660000</td>\n",
       "      <td>0</td>\n",
       "    </tr>\n",
       "    <tr>\n",
       "      <th>1928-01-03</th>\n",
       "      <td>17.760000</td>\n",
       "      <td>17.760000</td>\n",
       "      <td>17.760000</td>\n",
       "      <td>17.760000</td>\n",
       "      <td>17.760000</td>\n",
       "      <td>0</td>\n",
       "    </tr>\n",
       "    <tr>\n",
       "      <th>1928-01-04</th>\n",
       "      <td>17.719999</td>\n",
       "      <td>17.719999</td>\n",
       "      <td>17.719999</td>\n",
       "      <td>17.719999</td>\n",
       "      <td>17.719999</td>\n",
       "      <td>0</td>\n",
       "    </tr>\n",
       "    <tr>\n",
       "      <th>1928-01-05</th>\n",
       "      <td>17.549999</td>\n",
       "      <td>17.549999</td>\n",
       "      <td>17.549999</td>\n",
       "      <td>17.549999</td>\n",
       "      <td>17.549999</td>\n",
       "      <td>0</td>\n",
       "    </tr>\n",
       "    <tr>\n",
       "      <th>1928-01-06</th>\n",
       "      <td>17.660000</td>\n",
       "      <td>17.660000</td>\n",
       "      <td>17.660000</td>\n",
       "      <td>17.660000</td>\n",
       "      <td>17.660000</td>\n",
       "      <td>0</td>\n",
       "    </tr>\n",
       "  </tbody>\n",
       "</table>\n",
       "</div>"
      ],
      "text/plain": [
       "                 Open       High        Low      Close  Adj Close  Volume\n",
       "Date                                                                     \n",
       "1927-12-30  17.660000  17.660000  17.660000  17.660000  17.660000       0\n",
       "1928-01-03  17.760000  17.760000  17.760000  17.760000  17.760000       0\n",
       "1928-01-04  17.719999  17.719999  17.719999  17.719999  17.719999       0\n",
       "1928-01-05  17.549999  17.549999  17.549999  17.549999  17.549999       0\n",
       "1928-01-06  17.660000  17.660000  17.660000  17.660000  17.660000       0"
      ]
     },
     "execution_count": 5,
     "metadata": {},
     "output_type": "execute_result"
    }
   ],
   "source": [
    "spx.head()"
   ]
  },
  {
   "cell_type": "code",
   "execution_count": 6,
   "metadata": {},
   "outputs": [
    {
     "data": {
      "text/html": [
       "<div>\n",
       "<style scoped>\n",
       "    .dataframe tbody tr th:only-of-type {\n",
       "        vertical-align: middle;\n",
       "    }\n",
       "\n",
       "    .dataframe tbody tr th {\n",
       "        vertical-align: top;\n",
       "    }\n",
       "\n",
       "    .dataframe thead th {\n",
       "        text-align: right;\n",
       "    }\n",
       "</style>\n",
       "<table border=\"1\" class=\"dataframe\">\n",
       "  <thead>\n",
       "    <tr style=\"text-align: right;\">\n",
       "      <th></th>\n",
       "      <th>Open</th>\n",
       "      <th>High</th>\n",
       "      <th>Low</th>\n",
       "      <th>Close</th>\n",
       "      <th>Adj Close</th>\n",
       "      <th>Volume</th>\n",
       "    </tr>\n",
       "    <tr>\n",
       "      <th>Date</th>\n",
       "      <th></th>\n",
       "      <th></th>\n",
       "      <th></th>\n",
       "      <th></th>\n",
       "      <th></th>\n",
       "      <th></th>\n",
       "    </tr>\n",
       "  </thead>\n",
       "  <tbody>\n",
       "    <tr>\n",
       "      <th>2019-11-29</th>\n",
       "      <td>3147.179932</td>\n",
       "      <td>3150.300049</td>\n",
       "      <td>3139.340088</td>\n",
       "      <td>3140.979980</td>\n",
       "      <td>3140.979980</td>\n",
       "      <td>1743020000</td>\n",
       "    </tr>\n",
       "    <tr>\n",
       "      <th>2019-12-02</th>\n",
       "      <td>3143.850098</td>\n",
       "      <td>3144.310059</td>\n",
       "      <td>3110.780029</td>\n",
       "      <td>3113.870117</td>\n",
       "      <td>3113.870117</td>\n",
       "      <td>3268740000</td>\n",
       "    </tr>\n",
       "    <tr>\n",
       "      <th>2019-12-03</th>\n",
       "      <td>3087.409912</td>\n",
       "      <td>3094.969971</td>\n",
       "      <td>3070.330078</td>\n",
       "      <td>3093.199951</td>\n",
       "      <td>3093.199951</td>\n",
       "      <td>3653390000</td>\n",
       "    </tr>\n",
       "    <tr>\n",
       "      <th>2019-12-04</th>\n",
       "      <td>3103.500000</td>\n",
       "      <td>3119.379883</td>\n",
       "      <td>3102.530029</td>\n",
       "      <td>3112.760010</td>\n",
       "      <td>3112.760010</td>\n",
       "      <td>3695030000</td>\n",
       "    </tr>\n",
       "    <tr>\n",
       "      <th>2019-12-05</th>\n",
       "      <td>3119.209961</td>\n",
       "      <td>3119.429932</td>\n",
       "      <td>3103.760010</td>\n",
       "      <td>3111.090088</td>\n",
       "      <td>3111.090088</td>\n",
       "      <td>467114990</td>\n",
       "    </tr>\n",
       "  </tbody>\n",
       "</table>\n",
       "</div>"
      ],
      "text/plain": [
       "                   Open         High          Low        Close    Adj Close  \\\n",
       "Date                                                                          \n",
       "2019-11-29  3147.179932  3150.300049  3139.340088  3140.979980  3140.979980   \n",
       "2019-12-02  3143.850098  3144.310059  3110.780029  3113.870117  3113.870117   \n",
       "2019-12-03  3087.409912  3094.969971  3070.330078  3093.199951  3093.199951   \n",
       "2019-12-04  3103.500000  3119.379883  3102.530029  3112.760010  3112.760010   \n",
       "2019-12-05  3119.209961  3119.429932  3103.760010  3111.090088  3111.090088   \n",
       "\n",
       "                Volume  \n",
       "Date                    \n",
       "2019-11-29  1743020000  \n",
       "2019-12-02  3268740000  \n",
       "2019-12-03  3653390000  \n",
       "2019-12-04  3695030000  \n",
       "2019-12-05   467114990  "
      ]
     },
     "execution_count": 6,
     "metadata": {},
     "output_type": "execute_result"
    }
   ],
   "source": [
    "spx.tail()"
   ]
  },
  {
   "cell_type": "code",
   "execution_count": 7,
   "metadata": {},
   "outputs": [
    {
     "data": {
      "text/html": [
       "<div>\n",
       "<style scoped>\n",
       "    .dataframe tbody tr th:only-of-type {\n",
       "        vertical-align: middle;\n",
       "    }\n",
       "\n",
       "    .dataframe tbody tr th {\n",
       "        vertical-align: top;\n",
       "    }\n",
       "\n",
       "    .dataframe thead th {\n",
       "        text-align: right;\n",
       "    }\n",
       "</style>\n",
       "<table border=\"1\" class=\"dataframe\">\n",
       "  <thead>\n",
       "    <tr style=\"text-align: right;\">\n",
       "      <th></th>\n",
       "      <th>Open</th>\n",
       "      <th>High</th>\n",
       "      <th>Low</th>\n",
       "      <th>Close</th>\n",
       "      <th>Adj Close</th>\n",
       "      <th>Volume</th>\n",
       "    </tr>\n",
       "  </thead>\n",
       "  <tbody>\n",
       "    <tr>\n",
       "      <th>count</th>\n",
       "      <td>23092.000000</td>\n",
       "      <td>23092.000000</td>\n",
       "      <td>23092.000000</td>\n",
       "      <td>23092.000000</td>\n",
       "      <td>23092.000000</td>\n",
       "      <td>2.309200e+04</td>\n",
       "    </tr>\n",
       "    <tr>\n",
       "      <th>mean</th>\n",
       "      <td>460.240768</td>\n",
       "      <td>462.893373</td>\n",
       "      <td>457.425962</td>\n",
       "      <td>460.339423</td>\n",
       "      <td>460.339423</td>\n",
       "      <td>7.282778e+08</td>\n",
       "    </tr>\n",
       "    <tr>\n",
       "      <th>std</th>\n",
       "      <td>678.633011</td>\n",
       "      <td>682.061542</td>\n",
       "      <td>674.903514</td>\n",
       "      <td>678.737189</td>\n",
       "      <td>678.737189</td>\n",
       "      <td>1.427891e+09</td>\n",
       "    </tr>\n",
       "    <tr>\n",
       "      <th>min</th>\n",
       "      <td>4.400000</td>\n",
       "      <td>4.400000</td>\n",
       "      <td>4.400000</td>\n",
       "      <td>4.400000</td>\n",
       "      <td>4.400000</td>\n",
       "      <td>0.000000e+00</td>\n",
       "    </tr>\n",
       "    <tr>\n",
       "      <th>25%</th>\n",
       "      <td>23.670000</td>\n",
       "      <td>23.670000</td>\n",
       "      <td>23.670000</td>\n",
       "      <td>23.670000</td>\n",
       "      <td>23.670000</td>\n",
       "      <td>1.220000e+06</td>\n",
       "    </tr>\n",
       "    <tr>\n",
       "      <th>50%</th>\n",
       "      <td>98.774998</td>\n",
       "      <td>99.575001</td>\n",
       "      <td>97.970001</td>\n",
       "      <td>98.765000</td>\n",
       "      <td>98.765000</td>\n",
       "      <td>1.660500e+07</td>\n",
       "    </tr>\n",
       "    <tr>\n",
       "      <th>75%</th>\n",
       "      <td>745.264984</td>\n",
       "      <td>750.557525</td>\n",
       "      <td>740.809998</td>\n",
       "      <td>746.050003</td>\n",
       "      <td>746.050003</td>\n",
       "      <td>4.647950e+08</td>\n",
       "    </tr>\n",
       "    <tr>\n",
       "      <th>max</th>\n",
       "      <td>3147.179932</td>\n",
       "      <td>3154.260010</td>\n",
       "      <td>3143.409912</td>\n",
       "      <td>3153.629883</td>\n",
       "      <td>3153.629883</td>\n",
       "      <td>1.145623e+10</td>\n",
       "    </tr>\n",
       "  </tbody>\n",
       "</table>\n",
       "</div>"
      ],
      "text/plain": [
       "               Open          High           Low         Close     Adj Close  \\\n",
       "count  23092.000000  23092.000000  23092.000000  23092.000000  23092.000000   \n",
       "mean     460.240768    462.893373    457.425962    460.339423    460.339423   \n",
       "std      678.633011    682.061542    674.903514    678.737189    678.737189   \n",
       "min        4.400000      4.400000      4.400000      4.400000      4.400000   \n",
       "25%       23.670000     23.670000     23.670000     23.670000     23.670000   \n",
       "50%       98.774998     99.575001     97.970001     98.765000     98.765000   \n",
       "75%      745.264984    750.557525    740.809998    746.050003    746.050003   \n",
       "max     3147.179932   3154.260010   3143.409912   3153.629883   3153.629883   \n",
       "\n",
       "             Volume  \n",
       "count  2.309200e+04  \n",
       "mean   7.282778e+08  \n",
       "std    1.427891e+09  \n",
       "min    0.000000e+00  \n",
       "25%    1.220000e+06  \n",
       "50%    1.660500e+07  \n",
       "75%    4.647950e+08  \n",
       "max    1.145623e+10  "
      ]
     },
     "execution_count": 7,
     "metadata": {},
     "output_type": "execute_result"
    }
   ],
   "source": [
    "spx.describe()"
   ]
  },
  {
   "cell_type": "code",
   "execution_count": 8,
   "metadata": {},
   "outputs": [
    {
     "data": {
      "text/plain": [
       "[<matplotlib.lines.Line2D at 0x11b947400>]"
      ]
     },
     "execution_count": 8,
     "metadata": {},
     "output_type": "execute_result"
    },
    {
     "data": {
      "image/png": "[encoded data removed]",
      "text/plain": [
       "<Figure size 432x288 with 1 Axes>"
      ]
     },
     "metadata": {
      "needs_background": "light"
     },
     "output_type": "display_data"
    }
   ],
   "source": [
    "plt.plot(spx['Adj Close'])"
   ]
  },
  {
   "cell_type": "markdown",
   "metadata": {},
   "source": [
    "## NDX "
   ]
  },
  {
   "cell_type": "code",
   "execution_count": 9,
   "metadata": {},
   "outputs": [],
   "source": [
    "ndx = pd.read_csv('^IXIC.csv', index_col=0, parse_dates=True)"
   ]
  },
  {
   "cell_type": "code",
   "execution_count": 10,
   "metadata": {},
   "outputs": [
    {
     "data": {
      "text/html": [
       "<div>\n",
       "<style scoped>\n",
       "    .dataframe tbody tr th:only-of-type {\n",
       "        vertical-align: middle;\n",
       "    }\n",
       "\n",
       "    .dataframe tbody tr th {\n",
       "        vertical-align: top;\n",
       "    }\n",
       "\n",
       "    .dataframe thead th {\n",
       "        text-align: right;\n",
       "    }\n",
       "</style>\n",
       "<table border=\"1\" class=\"dataframe\">\n",
       "  <thead>\n",
       "    <tr style=\"text-align: right;\">\n",
       "      <th></th>\n",
       "      <th>Open</th>\n",
       "      <th>High</th>\n",
       "      <th>Low</th>\n",
       "      <th>Close</th>\n",
       "      <th>Adj Close</th>\n",
       "      <th>Volume</th>\n",
       "    </tr>\n",
       "    <tr>\n",
       "      <th>Date</th>\n",
       "      <th></th>\n",
       "      <th></th>\n",
       "      <th></th>\n",
       "      <th></th>\n",
       "      <th></th>\n",
       "      <th></th>\n",
       "    </tr>\n",
       "  </thead>\n",
       "  <tbody>\n",
       "    <tr>\n",
       "      <th>1971-02-05</th>\n",
       "      <td>100.000000</td>\n",
       "      <td>100.000000</td>\n",
       "      <td>100.000000</td>\n",
       "      <td>100.000000</td>\n",
       "      <td>100.000000</td>\n",
       "      <td>0</td>\n",
       "    </tr>\n",
       "    <tr>\n",
       "      <th>1971-02-08</th>\n",
       "      <td>100.839996</td>\n",
       "      <td>100.839996</td>\n",
       "      <td>100.839996</td>\n",
       "      <td>100.839996</td>\n",
       "      <td>100.839996</td>\n",
       "      <td>0</td>\n",
       "    </tr>\n",
       "    <tr>\n",
       "      <th>1971-02-09</th>\n",
       "      <td>100.760002</td>\n",
       "      <td>100.760002</td>\n",
       "      <td>100.760002</td>\n",
       "      <td>100.760002</td>\n",
       "      <td>100.760002</td>\n",
       "      <td>0</td>\n",
       "    </tr>\n",
       "    <tr>\n",
       "      <th>1971-02-10</th>\n",
       "      <td>100.690002</td>\n",
       "      <td>100.690002</td>\n",
       "      <td>100.690002</td>\n",
       "      <td>100.690002</td>\n",
       "      <td>100.690002</td>\n",
       "      <td>0</td>\n",
       "    </tr>\n",
       "    <tr>\n",
       "      <th>1971-02-11</th>\n",
       "      <td>101.449997</td>\n",
       "      <td>101.449997</td>\n",
       "      <td>101.449997</td>\n",
       "      <td>101.449997</td>\n",
       "      <td>101.449997</td>\n",
       "      <td>0</td>\n",
       "    </tr>\n",
       "  </tbody>\n",
       "</table>\n",
       "</div>"
      ],
      "text/plain": [
       "                  Open        High         Low       Close   Adj Close  Volume\n",
       "Date                                                                          \n",
       "1971-02-05  100.000000  100.000000  100.000000  100.000000  100.000000       0\n",
       "1971-02-08  100.839996  100.839996  100.839996  100.839996  100.839996       0\n",
       "1971-02-09  100.760002  100.760002  100.760002  100.760002  100.760002       0\n",
       "1971-02-10  100.690002  100.690002  100.690002  100.690002  100.690002       0\n",
       "1971-02-11  101.449997  101.449997  101.449997  101.449997  101.449997       0"
      ]
     },
     "execution_count": 10,
     "metadata": {},
     "output_type": "execute_result"
    }
   ],
   "source": [
    "ndx.head()"
   ]
  },
  {
   "cell_type": "code",
   "execution_count": 11,
   "metadata": {},
   "outputs": [
    {
     "data": {
      "text/html": [
       "<div>\n",
       "<style scoped>\n",
       "    .dataframe tbody tr th:only-of-type {\n",
       "        vertical-align: middle;\n",
       "    }\n",
       "\n",
       "    .dataframe tbody tr th {\n",
       "        vertical-align: top;\n",
       "    }\n",
       "\n",
       "    .dataframe thead th {\n",
       "        text-align: right;\n",
       "    }\n",
       "</style>\n",
       "<table border=\"1\" class=\"dataframe\">\n",
       "  <thead>\n",
       "    <tr style=\"text-align: right;\">\n",
       "      <th></th>\n",
       "      <th>Open</th>\n",
       "      <th>High</th>\n",
       "      <th>Low</th>\n",
       "      <th>Close</th>\n",
       "      <th>Adj Close</th>\n",
       "      <th>Volume</th>\n",
       "    </tr>\n",
       "    <tr>\n",
       "      <th>Date</th>\n",
       "      <th></th>\n",
       "      <th></th>\n",
       "      <th></th>\n",
       "      <th></th>\n",
       "      <th></th>\n",
       "      <th></th>\n",
       "    </tr>\n",
       "  </thead>\n",
       "  <tbody>\n",
       "    <tr>\n",
       "      <th>2019-11-29</th>\n",
       "      <td>8682.009766</td>\n",
       "      <td>8697.320313</td>\n",
       "      <td>8664.040039</td>\n",
       "      <td>8665.469727</td>\n",
       "      <td>8665.469727</td>\n",
       "      <td>1099090000</td>\n",
       "    </tr>\n",
       "    <tr>\n",
       "      <th>2019-12-02</th>\n",
       "      <td>8672.839844</td>\n",
       "      <td>8672.839844</td>\n",
       "      <td>8540.160156</td>\n",
       "      <td>8567.990234</td>\n",
       "      <td>8567.990234</td>\n",
       "      <td>2225940000</td>\n",
       "    </tr>\n",
       "    <tr>\n",
       "      <th>2019-12-03</th>\n",
       "      <td>8460.719727</td>\n",
       "      <td>8523.980469</td>\n",
       "      <td>8435.400391</td>\n",
       "      <td>8520.639648</td>\n",
       "      <td>8520.639648</td>\n",
       "      <td>2308600000</td>\n",
       "    </tr>\n",
       "    <tr>\n",
       "      <th>2019-12-04</th>\n",
       "      <td>8557.450195</td>\n",
       "      <td>8584.879883</td>\n",
       "      <td>8552.379883</td>\n",
       "      <td>8566.669922</td>\n",
       "      <td>8566.669922</td>\n",
       "      <td>2150680000</td>\n",
       "    </tr>\n",
       "    <tr>\n",
       "      <th>2019-12-05</th>\n",
       "      <td>8587.933594</td>\n",
       "      <td>8588.885742</td>\n",
       "      <td>8541.917969</td>\n",
       "      <td>8563.492188</td>\n",
       "      <td>8563.492188</td>\n",
       "      <td>683189478</td>\n",
       "    </tr>\n",
       "  </tbody>\n",
       "</table>\n",
       "</div>"
      ],
      "text/plain": [
       "                   Open         High          Low        Close    Adj Close  \\\n",
       "Date                                                                          \n",
       "2019-11-29  8682.009766  8697.320313  8664.040039  8665.469727  8665.469727   \n",
       "2019-12-02  8672.839844  8672.839844  8540.160156  8567.990234  8567.990234   \n",
       "2019-12-03  8460.719727  8523.980469  8435.400391  8520.639648  8520.639648   \n",
       "2019-12-04  8557.450195  8584.879883  8552.379883  8566.669922  8566.669922   \n",
       "2019-12-05  8587.933594  8588.885742  8541.917969  8563.492188  8563.492188   \n",
       "\n",
       "                Volume  \n",
       "Date                    \n",
       "2019-11-29  1099090000  \n",
       "2019-12-02  2225940000  \n",
       "2019-12-03  2308600000  \n",
       "2019-12-04  2150680000  \n",
       "2019-12-05   683189478  "
      ]
     },
     "execution_count": 11,
     "metadata": {},
     "output_type": "execute_result"
    }
   ],
   "source": [
    "ndx.tail()"
   ]
  },
  {
   "cell_type": "code",
   "execution_count": 12,
   "metadata": {},
   "outputs": [
    {
     "data": {
      "text/html": [
       "<div>\n",
       "<style scoped>\n",
       "    .dataframe tbody tr th:only-of-type {\n",
       "        vertical-align: middle;\n",
       "    }\n",
       "\n",
       "    .dataframe tbody tr th {\n",
       "        vertical-align: top;\n",
       "    }\n",
       "\n",
       "    .dataframe thead th {\n",
       "        text-align: right;\n",
       "    }\n",
       "</style>\n",
       "<table border=\"1\" class=\"dataframe\">\n",
       "  <thead>\n",
       "    <tr style=\"text-align: right;\">\n",
       "      <th></th>\n",
       "      <th>Open</th>\n",
       "      <th>High</th>\n",
       "      <th>Low</th>\n",
       "      <th>Close</th>\n",
       "      <th>Adj Close</th>\n",
       "      <th>Volume</th>\n",
       "    </tr>\n",
       "  </thead>\n",
       "  <tbody>\n",
       "    <tr>\n",
       "      <th>count</th>\n",
       "      <td>12318.000000</td>\n",
       "      <td>12318.000000</td>\n",
       "      <td>12318.000000</td>\n",
       "      <td>12318.000000</td>\n",
       "      <td>12318.000000</td>\n",
       "      <td>1.231800e+04</td>\n",
       "    </tr>\n",
       "    <tr>\n",
       "      <th>mean</th>\n",
       "      <td>1711.577941</td>\n",
       "      <td>1722.325066</td>\n",
       "      <td>1699.062016</td>\n",
       "      <td>1711.365630</td>\n",
       "      <td>1711.365630</td>\n",
       "      <td>8.884290e+08</td>\n",
       "    </tr>\n",
       "    <tr>\n",
       "      <th>std</th>\n",
       "      <td>1930.685910</td>\n",
       "      <td>1941.688048</td>\n",
       "      <td>1917.763206</td>\n",
       "      <td>1930.523938</td>\n",
       "      <td>1930.523938</td>\n",
       "      <td>9.216810e+08</td>\n",
       "    </tr>\n",
       "    <tr>\n",
       "      <th>min</th>\n",
       "      <td>54.869999</td>\n",
       "      <td>54.869999</td>\n",
       "      <td>54.869999</td>\n",
       "      <td>54.869999</td>\n",
       "      <td>54.869999</td>\n",
       "      <td>0.000000e+00</td>\n",
       "    </tr>\n",
       "    <tr>\n",
       "      <th>25%</th>\n",
       "      <td>241.817493</td>\n",
       "      <td>242.854996</td>\n",
       "      <td>241.519993</td>\n",
       "      <td>242.439995</td>\n",
       "      <td>242.439995</td>\n",
       "      <td>0.000000e+00</td>\n",
       "    </tr>\n",
       "    <tr>\n",
       "      <th>50%</th>\n",
       "      <td>919.559998</td>\n",
       "      <td>924.935028</td>\n",
       "      <td>915.955017</td>\n",
       "      <td>921.305023</td>\n",
       "      <td>921.305023</td>\n",
       "      <td>3.821950e+08</td>\n",
       "    </tr>\n",
       "    <tr>\n",
       "      <th>75%</th>\n",
       "      <td>2430.750000</td>\n",
       "      <td>2451.670044</td>\n",
       "      <td>2410.342468</td>\n",
       "      <td>2431.137451</td>\n",
       "      <td>2431.137451</td>\n",
       "      <td>1.797655e+09</td>\n",
       "    </tr>\n",
       "    <tr>\n",
       "      <th>max</th>\n",
       "      <td>8682.009766</td>\n",
       "      <td>8705.910156</td>\n",
       "      <td>8664.040039</td>\n",
       "      <td>8705.179688</td>\n",
       "      <td>8705.179688</td>\n",
       "      <td>4.553600e+09</td>\n",
       "    </tr>\n",
       "  </tbody>\n",
       "</table>\n",
       "</div>"
      ],
      "text/plain": [
       "               Open          High           Low         Close     Adj Close  \\\n",
       "count  12318.000000  12318.000000  12318.000000  12318.000000  12318.000000   \n",
       "mean    1711.577941   1722.325066   1699.062016   1711.365630   1711.365630   \n",
       "std     1930.685910   1941.688048   1917.763206   1930.523938   1930.523938   \n",
       "min       54.869999     54.869999     54.869999     54.869999     54.869999   \n",
       "25%      241.817493    242.854996    241.519993    242.439995    242.439995   \n",
       "50%      919.559998    924.935028    915.955017    921.305023    921.305023   \n",
       "75%     2430.750000   2451.670044   2410.342468   2431.137451   2431.137451   \n",
       "max     8682.009766   8705.910156   8664.040039   8705.179688   8705.179688   \n",
       "\n",
       "             Volume  \n",
       "count  1.231800e+04  \n",
       "mean   8.884290e+08  \n",
       "std    9.216810e+08  \n",
       "min    0.000000e+00  \n",
       "25%    0.000000e+00  \n",
       "50%    3.821950e+08  \n",
       "75%    1.797655e+09  \n",
       "max    4.553600e+09  "
      ]
     },
     "execution_count": 12,
     "metadata": {},
     "output_type": "execute_result"
    }
   ],
   "source": [
    "ndx.describe()"
   ]
  },
  {
   "cell_type": "code",
   "execution_count": 13,
   "metadata": {
    "scrolled": true
   },
   "outputs": [
    {
     "data": {
      "text/plain": [
       "[<matplotlib.lines.Line2D at 0x11d70c898>]"
      ]
     },
     "execution_count": 13,
     "metadata": {},
     "output_type": "execute_result"
    },
    {
     "data": {
      "image/png": "[encoded data removed]",
      "text/plain": [
       "<Figure size 432x288 with 1 Axes>"
      ]
     },
     "metadata": {
      "needs_background": "light"
     },
     "output_type": "display_data"
    }
   ],
   "source": [
    "plt.plot(ndx['Adj Close'])"
   ]
  },
  {
   "cell_type": "markdown",
   "metadata": {},
   "source": [
    "# Pickle Data"
   ]
  },
  {
   "cell_type": "code",
   "execution_count": 14,
   "metadata": {},
   "outputs": [],
   "source": [
    "input_file = [spx, ndx]"
   ]
  },
  {
   "cell_type": "code",
   "execution_count": 15,
   "metadata": {},
   "outputs": [],
   "source": [
    "output_filename = ['spx.pickle', 'ndx.pickle']"
   ]
  },
  {
   "cell_type": "code",
   "execution_count": 16,
   "metadata": {},
   "outputs": [],
   "source": [
    "for i in range(len(input_file)):\n",
    "    with open(output_filename[i], 'wb') as f:\n",
    "        pickle.dump(input_file[i], f)\n",
    "        \n",
    "    f.close()"
   ]
  }
 ],
 "metadata": {
  "kernelspec": {
   "display_name": "Python 3",
   "language": "python",
   "name": "python3"
  },
  "language_info": {
   "codemirror_mode": {
    "name": "ipython",
    "version": 3
   },
   "file_extension": ".py",
   "mimetype": "text/x-python",
   "name": "python",
   "nbconvert_exporter": "python",
   "pygments_lexer": "ipython3",
   "version": "3.7.1"
  }
 },
 "nbformat": 4,
 "nbformat_minor": 2
}

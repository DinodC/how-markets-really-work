{
 "cells": [
  {
   "cell_type": "markdown",
   "metadata": {},
   "source": [
    "# How Markets Really Work: Short-term Highs And Short-term Lows"
   ]
  },
  {
   "cell_type": "markdown",
   "metadata": {},
   "source": [
    "Import packages"
   ]
  },
  {
   "cell_type": "code",
   "execution_count": 1,
   "metadata": {},
   "outputs": [],
   "source": [
    "import pandas as pd"
   ]
  },
  {
   "cell_type": "code",
   "execution_count": 2,
   "metadata": {},
   "outputs": [],
   "source": [
    "import matplotlib.pyplot as plt"
   ]
  },
  {
   "cell_type": "code",
   "execution_count": 3,
   "metadata": {},
   "outputs": [],
   "source": [
    "import pickle"
   ]
  },
  {
   "cell_type": "markdown",
   "metadata": {},
   "source": [
    "## Load Data "
   ]
  },
  {
   "cell_type": "markdown",
   "metadata": {},
   "source": [
    "List of files to load"
   ]
  },
  {
   "cell_type": "code",
   "execution_count": 4,
   "metadata": {},
   "outputs": [],
   "source": [
    "input_filename = ['spx.pickle', 'ndx.pickle']"
   ]
  },
  {
   "cell_type": "markdown",
   "metadata": {},
   "source": [
    "Create a list to load DataFrame objects"
   ]
  },
  {
   "cell_type": "code",
   "execution_count": 5,
   "metadata": {},
   "outputs": [],
   "source": [
    "data_list = [pd.DataFrame(), pd.DataFrame()]"
   ]
  },
  {
   "cell_type": "markdown",
   "metadata": {},
   "source": [
    "Pickle DataFrame objects"
   ]
  },
  {
   "cell_type": "code",
   "execution_count": 6,
   "metadata": {},
   "outputs": [],
   "source": [
    "for i in range(len(input_filename)):\n",
    "    with open(input_filename[i], 'rb') as f:\n",
    "        data_list[i] = pickle.load(f)\n",
    "        \n",
    "    f.close()"
   ]
  },
  {
   "cell_type": "markdown",
   "metadata": {},
   "source": [
    "Create a single DataFrame object containing both SPX and NDX data"
   ]
  },
  {
   "cell_type": "code",
   "execution_count": 7,
   "metadata": {},
   "outputs": [],
   "source": [
    "data = pd.concat(data_list, axis=1)"
   ]
  },
  {
   "cell_type": "markdown",
   "metadata": {},
   "source": [
    "Set indices"
   ]
  },
  {
   "cell_type": "code",
   "execution_count": 8,
   "metadata": {},
   "outputs": [],
   "source": [
    "data.columns = pd.MultiIndex.from_product([['spx', 'ndx'], data_list[0].columns])"
   ]
  },
  {
   "cell_type": "markdown",
   "metadata": {},
   "source": [
    "Inspect data"
   ]
  },
  {
   "cell_type": "code",
   "execution_count": 9,
   "metadata": {},
   "outputs": [
    {
     "data": {
      "text/html": [
       "<div>\n",
       "<style scoped>\n",
       "    .dataframe tbody tr th:only-of-type {\n",
       "        vertical-align: middle;\n",
       "    }\n",
       "\n",
       "    .dataframe tbody tr th {\n",
       "        vertical-align: top;\n",
       "    }\n",
       "\n",
       "    .dataframe thead tr th {\n",
       "        text-align: left;\n",
       "    }\n",
       "\n",
       "    .dataframe thead tr:last-of-type th {\n",
       "        text-align: right;\n",
       "    }\n",
       "</style>\n",
       "<table border=\"1\" class=\"dataframe\">\n",
       "  <thead>\n",
       "    <tr>\n",
       "      <th></th>\n",
       "      <th colspan=\"6\" halign=\"left\">spx</th>\n",
       "      <th colspan=\"6\" halign=\"left\">ndx</th>\n",
       "    </tr>\n",
       "    <tr>\n",
       "      <th></th>\n",
       "      <th>Open</th>\n",
       "      <th>High</th>\n",
       "      <th>Low</th>\n",
       "      <th>Close</th>\n",
       "      <th>Adj Close</th>\n",
       "      <th>Volume</th>\n",
       "      <th>Open</th>\n",
       "      <th>High</th>\n",
       "      <th>Low</th>\n",
       "      <th>Close</th>\n",
       "      <th>Adj Close</th>\n",
       "      <th>Volume</th>\n",
       "    </tr>\n",
       "    <tr>\n",
       "      <th>Date</th>\n",
       "      <th></th>\n",
       "      <th></th>\n",
       "      <th></th>\n",
       "      <th></th>\n",
       "      <th></th>\n",
       "      <th></th>\n",
       "      <th></th>\n",
       "      <th></th>\n",
       "      <th></th>\n",
       "      <th></th>\n",
       "      <th></th>\n",
       "      <th></th>\n",
       "    </tr>\n",
       "  </thead>\n",
       "  <tbody>\n",
       "    <tr>\n",
       "      <th>1927-12-30</th>\n",
       "      <td>17.660000</td>\n",
       "      <td>17.660000</td>\n",
       "      <td>17.660000</td>\n",
       "      <td>17.660000</td>\n",
       "      <td>17.660000</td>\n",
       "      <td>0</td>\n",
       "      <td>NaN</td>\n",
       "      <td>NaN</td>\n",
       "      <td>NaN</td>\n",
       "      <td>NaN</td>\n",
       "      <td>NaN</td>\n",
       "      <td>NaN</td>\n",
       "    </tr>\n",
       "    <tr>\n",
       "      <th>1928-01-03</th>\n",
       "      <td>17.760000</td>\n",
       "      <td>17.760000</td>\n",
       "      <td>17.760000</td>\n",
       "      <td>17.760000</td>\n",
       "      <td>17.760000</td>\n",
       "      <td>0</td>\n",
       "      <td>NaN</td>\n",
       "      <td>NaN</td>\n",
       "      <td>NaN</td>\n",
       "      <td>NaN</td>\n",
       "      <td>NaN</td>\n",
       "      <td>NaN</td>\n",
       "    </tr>\n",
       "    <tr>\n",
       "      <th>1928-01-04</th>\n",
       "      <td>17.719999</td>\n",
       "      <td>17.719999</td>\n",
       "      <td>17.719999</td>\n",
       "      <td>17.719999</td>\n",
       "      <td>17.719999</td>\n",
       "      <td>0</td>\n",
       "      <td>NaN</td>\n",
       "      <td>NaN</td>\n",
       "      <td>NaN</td>\n",
       "      <td>NaN</td>\n",
       "      <td>NaN</td>\n",
       "      <td>NaN</td>\n",
       "    </tr>\n",
       "    <tr>\n",
       "      <th>1928-01-05</th>\n",
       "      <td>17.549999</td>\n",
       "      <td>17.549999</td>\n",
       "      <td>17.549999</td>\n",
       "      <td>17.549999</td>\n",
       "      <td>17.549999</td>\n",
       "      <td>0</td>\n",
       "      <td>NaN</td>\n",
       "      <td>NaN</td>\n",
       "      <td>NaN</td>\n",
       "      <td>NaN</td>\n",
       "      <td>NaN</td>\n",
       "      <td>NaN</td>\n",
       "    </tr>\n",
       "    <tr>\n",
       "      <th>1928-01-06</th>\n",
       "      <td>17.660000</td>\n",
       "      <td>17.660000</td>\n",
       "      <td>17.660000</td>\n",
       "      <td>17.660000</td>\n",
       "      <td>17.660000</td>\n",
       "      <td>0</td>\n",
       "      <td>NaN</td>\n",
       "      <td>NaN</td>\n",
       "      <td>NaN</td>\n",
       "      <td>NaN</td>\n",
       "      <td>NaN</td>\n",
       "      <td>NaN</td>\n",
       "    </tr>\n",
       "  </tbody>\n",
       "</table>\n",
       "</div>"
      ],
      "text/plain": [
       "                  spx                                                     ndx  \\\n",
       "                 Open       High        Low      Close  Adj Close Volume Open   \n",
       "Date                                                                            \n",
       "1927-12-30  17.660000  17.660000  17.660000  17.660000  17.660000      0  NaN   \n",
       "1928-01-03  17.760000  17.760000  17.760000  17.760000  17.760000      0  NaN   \n",
       "1928-01-04  17.719999  17.719999  17.719999  17.719999  17.719999      0  NaN   \n",
       "1928-01-05  17.549999  17.549999  17.549999  17.549999  17.549999      0  NaN   \n",
       "1928-01-06  17.660000  17.660000  17.660000  17.660000  17.660000      0  NaN   \n",
       "\n",
       "                                            \n",
       "           High Low Close Adj Close Volume  \n",
       "Date                                        \n",
       "1927-12-30  NaN NaN   NaN       NaN    NaN  \n",
       "1928-01-03  NaN NaN   NaN       NaN    NaN  \n",
       "1928-01-04  NaN NaN   NaN       NaN    NaN  \n",
       "1928-01-05  NaN NaN   NaN       NaN    NaN  \n",
       "1928-01-06  NaN NaN   NaN       NaN    NaN  "
      ]
     },
     "execution_count": 9,
     "metadata": {},
     "output_type": "execute_result"
    }
   ],
   "source": [
    "data.head()"
   ]
  },
  {
   "cell_type": "code",
   "execution_count": 10,
   "metadata": {},
   "outputs": [
    {
     "data": {
      "text/html": [
       "<div>\n",
       "<style scoped>\n",
       "    .dataframe tbody tr th:only-of-type {\n",
       "        vertical-align: middle;\n",
       "    }\n",
       "\n",
       "    .dataframe tbody tr th {\n",
       "        vertical-align: top;\n",
       "    }\n",
       "\n",
       "    .dataframe thead tr th {\n",
       "        text-align: left;\n",
       "    }\n",
       "\n",
       "    .dataframe thead tr:last-of-type th {\n",
       "        text-align: right;\n",
       "    }\n",
       "</style>\n",
       "<table border=\"1\" class=\"dataframe\">\n",
       "  <thead>\n",
       "    <tr>\n",
       "      <th></th>\n",
       "      <th colspan=\"6\" halign=\"left\">spx</th>\n",
       "      <th colspan=\"6\" halign=\"left\">ndx</th>\n",
       "    </tr>\n",
       "    <tr>\n",
       "      <th></th>\n",
       "      <th>Open</th>\n",
       "      <th>High</th>\n",
       "      <th>Low</th>\n",
       "      <th>Close</th>\n",
       "      <th>Adj Close</th>\n",
       "      <th>Volume</th>\n",
       "      <th>Open</th>\n",
       "      <th>High</th>\n",
       "      <th>Low</th>\n",
       "      <th>Close</th>\n",
       "      <th>Adj Close</th>\n",
       "      <th>Volume</th>\n",
       "    </tr>\n",
       "    <tr>\n",
       "      <th>Date</th>\n",
       "      <th></th>\n",
       "      <th></th>\n",
       "      <th></th>\n",
       "      <th></th>\n",
       "      <th></th>\n",
       "      <th></th>\n",
       "      <th></th>\n",
       "      <th></th>\n",
       "      <th></th>\n",
       "      <th></th>\n",
       "      <th></th>\n",
       "      <th></th>\n",
       "    </tr>\n",
       "  </thead>\n",
       "  <tbody>\n",
       "    <tr>\n",
       "      <th>2019-11-29</th>\n",
       "      <td>3147.179932</td>\n",
       "      <td>3150.300049</td>\n",
       "      <td>3139.340088</td>\n",
       "      <td>3140.979980</td>\n",
       "      <td>3140.979980</td>\n",
       "      <td>1743020000</td>\n",
       "      <td>8682.009766</td>\n",
       "      <td>8697.320313</td>\n",
       "      <td>8664.040039</td>\n",
       "      <td>8665.469727</td>\n",
       "      <td>8665.469727</td>\n",
       "      <td>1.099090e+09</td>\n",
       "    </tr>\n",
       "    <tr>\n",
       "      <th>2019-12-02</th>\n",
       "      <td>3143.850098</td>\n",
       "      <td>3144.310059</td>\n",
       "      <td>3110.780029</td>\n",
       "      <td>3113.870117</td>\n",
       "      <td>3113.870117</td>\n",
       "      <td>3268740000</td>\n",
       "      <td>8672.839844</td>\n",
       "      <td>8672.839844</td>\n",
       "      <td>8540.160156</td>\n",
       "      <td>8567.990234</td>\n",
       "      <td>8567.990234</td>\n",
       "      <td>2.225940e+09</td>\n",
       "    </tr>\n",
       "    <tr>\n",
       "      <th>2019-12-03</th>\n",
       "      <td>3087.409912</td>\n",
       "      <td>3094.969971</td>\n",
       "      <td>3070.330078</td>\n",
       "      <td>3093.199951</td>\n",
       "      <td>3093.199951</td>\n",
       "      <td>3653390000</td>\n",
       "      <td>8460.719727</td>\n",
       "      <td>8523.980469</td>\n",
       "      <td>8435.400391</td>\n",
       "      <td>8520.639648</td>\n",
       "      <td>8520.639648</td>\n",
       "      <td>2.308600e+09</td>\n",
       "    </tr>\n",
       "    <tr>\n",
       "      <th>2019-12-04</th>\n",
       "      <td>3103.500000</td>\n",
       "      <td>3119.379883</td>\n",
       "      <td>3102.530029</td>\n",
       "      <td>3112.760010</td>\n",
       "      <td>3112.760010</td>\n",
       "      <td>3695030000</td>\n",
       "      <td>8557.450195</td>\n",
       "      <td>8584.879883</td>\n",
       "      <td>8552.379883</td>\n",
       "      <td>8566.669922</td>\n",
       "      <td>8566.669922</td>\n",
       "      <td>2.150680e+09</td>\n",
       "    </tr>\n",
       "    <tr>\n",
       "      <th>2019-12-05</th>\n",
       "      <td>3119.209961</td>\n",
       "      <td>3119.429932</td>\n",
       "      <td>3103.760010</td>\n",
       "      <td>3111.090088</td>\n",
       "      <td>3111.090088</td>\n",
       "      <td>467114990</td>\n",
       "      <td>8587.933594</td>\n",
       "      <td>8588.885742</td>\n",
       "      <td>8541.917969</td>\n",
       "      <td>8563.492188</td>\n",
       "      <td>8563.492188</td>\n",
       "      <td>6.831895e+08</td>\n",
       "    </tr>\n",
       "  </tbody>\n",
       "</table>\n",
       "</div>"
      ],
      "text/plain": [
       "                    spx                                                      \\\n",
       "                   Open         High          Low        Close    Adj Close   \n",
       "Date                                                                          \n",
       "2019-11-29  3147.179932  3150.300049  3139.340088  3140.979980  3140.979980   \n",
       "2019-12-02  3143.850098  3144.310059  3110.780029  3113.870117  3113.870117   \n",
       "2019-12-03  3087.409912  3094.969971  3070.330078  3093.199951  3093.199951   \n",
       "2019-12-04  3103.500000  3119.379883  3102.530029  3112.760010  3112.760010   \n",
       "2019-12-05  3119.209961  3119.429932  3103.760010  3111.090088  3111.090088   \n",
       "\n",
       "                                ndx                                         \\\n",
       "                Volume         Open         High          Low        Close   \n",
       "Date                                                                         \n",
       "2019-11-29  1743020000  8682.009766  8697.320313  8664.040039  8665.469727   \n",
       "2019-12-02  3268740000  8672.839844  8672.839844  8540.160156  8567.990234   \n",
       "2019-12-03  3653390000  8460.719727  8523.980469  8435.400391  8520.639648   \n",
       "2019-12-04  3695030000  8557.450195  8584.879883  8552.379883  8566.669922   \n",
       "2019-12-05   467114990  8587.933594  8588.885742  8541.917969  8563.492188   \n",
       "\n",
       "                                       \n",
       "              Adj Close        Volume  \n",
       "Date                                   \n",
       "2019-11-29  8665.469727  1.099090e+09  \n",
       "2019-12-02  8567.990234  2.225940e+09  \n",
       "2019-12-03  8520.639648  2.308600e+09  \n",
       "2019-12-04  8566.669922  2.150680e+09  \n",
       "2019-12-05  8563.492188  6.831895e+08  "
      ]
     },
     "execution_count": 10,
     "metadata": {},
     "output_type": "execute_result"
    }
   ],
   "source": [
    "data.tail()"
   ]
  },
  {
   "cell_type": "code",
   "execution_count": 11,
   "metadata": {},
   "outputs": [
    {
     "data": {
      "text/html": [
       "<div>\n",
       "<style scoped>\n",
       "    .dataframe tbody tr th:only-of-type {\n",
       "        vertical-align: middle;\n",
       "    }\n",
       "\n",
       "    .dataframe tbody tr th {\n",
       "        vertical-align: top;\n",
       "    }\n",
       "\n",
       "    .dataframe thead tr th {\n",
       "        text-align: left;\n",
       "    }\n",
       "</style>\n",
       "<table border=\"1\" class=\"dataframe\">\n",
       "  <thead>\n",
       "    <tr>\n",
       "      <th></th>\n",
       "      <th colspan=\"6\" halign=\"left\">spx</th>\n",
       "      <th colspan=\"6\" halign=\"left\">ndx</th>\n",
       "    </tr>\n",
       "    <tr>\n",
       "      <th></th>\n",
       "      <th>Open</th>\n",
       "      <th>High</th>\n",
       "      <th>Low</th>\n",
       "      <th>Close</th>\n",
       "      <th>Adj Close</th>\n",
       "      <th>Volume</th>\n",
       "      <th>Open</th>\n",
       "      <th>High</th>\n",
       "      <th>Low</th>\n",
       "      <th>Close</th>\n",
       "      <th>Adj Close</th>\n",
       "      <th>Volume</th>\n",
       "    </tr>\n",
       "  </thead>\n",
       "  <tbody>\n",
       "    <tr>\n",
       "      <th>count</th>\n",
       "      <td>23092.000000</td>\n",
       "      <td>23092.000000</td>\n",
       "      <td>23092.000000</td>\n",
       "      <td>23092.000000</td>\n",
       "      <td>23092.000000</td>\n",
       "      <td>2.309200e+04</td>\n",
       "      <td>12318.000000</td>\n",
       "      <td>12318.000000</td>\n",
       "      <td>12318.000000</td>\n",
       "      <td>12318.000000</td>\n",
       "      <td>12318.000000</td>\n",
       "      <td>1.231800e+04</td>\n",
       "    </tr>\n",
       "    <tr>\n",
       "      <th>mean</th>\n",
       "      <td>460.240768</td>\n",
       "      <td>462.893373</td>\n",
       "      <td>457.425962</td>\n",
       "      <td>460.339423</td>\n",
       "      <td>460.339423</td>\n",
       "      <td>7.282778e+08</td>\n",
       "      <td>1711.577941</td>\n",
       "      <td>1722.325066</td>\n",
       "      <td>1699.062016</td>\n",
       "      <td>1711.365630</td>\n",
       "      <td>1711.365630</td>\n",
       "      <td>8.884290e+08</td>\n",
       "    </tr>\n",
       "    <tr>\n",
       "      <th>std</th>\n",
       "      <td>678.633011</td>\n",
       "      <td>682.061542</td>\n",
       "      <td>674.903514</td>\n",
       "      <td>678.737189</td>\n",
       "      <td>678.737189</td>\n",
       "      <td>1.427891e+09</td>\n",
       "      <td>1930.685910</td>\n",
       "      <td>1941.688048</td>\n",
       "      <td>1917.763206</td>\n",
       "      <td>1930.523938</td>\n",
       "      <td>1930.523938</td>\n",
       "      <td>9.216810e+08</td>\n",
       "    </tr>\n",
       "    <tr>\n",
       "      <th>min</th>\n",
       "      <td>4.400000</td>\n",
       "      <td>4.400000</td>\n",
       "      <td>4.400000</td>\n",
       "      <td>4.400000</td>\n",
       "      <td>4.400000</td>\n",
       "      <td>0.000000e+00</td>\n",
       "      <td>54.869999</td>\n",
       "      <td>54.869999</td>\n",
       "      <td>54.869999</td>\n",
       "      <td>54.869999</td>\n",
       "      <td>54.869999</td>\n",
       "      <td>0.000000e+00</td>\n",
       "    </tr>\n",
       "    <tr>\n",
       "      <th>25%</th>\n",
       "      <td>23.670000</td>\n",
       "      <td>23.670000</td>\n",
       "      <td>23.670000</td>\n",
       "      <td>23.670000</td>\n",
       "      <td>23.670000</td>\n",
       "      <td>1.220000e+06</td>\n",
       "      <td>241.817493</td>\n",
       "      <td>242.854996</td>\n",
       "      <td>241.519993</td>\n",
       "      <td>242.439995</td>\n",
       "      <td>242.439995</td>\n",
       "      <td>0.000000e+00</td>\n",
       "    </tr>\n",
       "    <tr>\n",
       "      <th>50%</th>\n",
       "      <td>98.774998</td>\n",
       "      <td>99.575001</td>\n",
       "      <td>97.970001</td>\n",
       "      <td>98.765000</td>\n",
       "      <td>98.765000</td>\n",
       "      <td>1.660500e+07</td>\n",
       "      <td>919.559998</td>\n",
       "      <td>924.935028</td>\n",
       "      <td>915.955017</td>\n",
       "      <td>921.305023</td>\n",
       "      <td>921.305023</td>\n",
       "      <td>3.821950e+08</td>\n",
       "    </tr>\n",
       "    <tr>\n",
       "      <th>75%</th>\n",
       "      <td>745.264984</td>\n",
       "      <td>750.557525</td>\n",
       "      <td>740.809998</td>\n",
       "      <td>746.050003</td>\n",
       "      <td>746.050003</td>\n",
       "      <td>4.647950e+08</td>\n",
       "      <td>2430.750000</td>\n",
       "      <td>2451.670044</td>\n",
       "      <td>2410.342468</td>\n",
       "      <td>2431.137451</td>\n",
       "      <td>2431.137451</td>\n",
       "      <td>1.797655e+09</td>\n",
       "    </tr>\n",
       "    <tr>\n",
       "      <th>max</th>\n",
       "      <td>3147.179932</td>\n",
       "      <td>3154.260010</td>\n",
       "      <td>3143.409912</td>\n",
       "      <td>3153.629883</td>\n",
       "      <td>3153.629883</td>\n",
       "      <td>1.145623e+10</td>\n",
       "      <td>8682.009766</td>\n",
       "      <td>8705.910156</td>\n",
       "      <td>8664.040039</td>\n",
       "      <td>8705.179688</td>\n",
       "      <td>8705.179688</td>\n",
       "      <td>4.553600e+09</td>\n",
       "    </tr>\n",
       "  </tbody>\n",
       "</table>\n",
       "</div>"
      ],
      "text/plain": [
       "                spx                                                          \\\n",
       "               Open          High           Low         Close     Adj Close   \n",
       "count  23092.000000  23092.000000  23092.000000  23092.000000  23092.000000   \n",
       "mean     460.240768    462.893373    457.425962    460.339423    460.339423   \n",
       "std      678.633011    682.061542    674.903514    678.737189    678.737189   \n",
       "min        4.400000      4.400000      4.400000      4.400000      4.400000   \n",
       "25%       23.670000     23.670000     23.670000     23.670000     23.670000   \n",
       "50%       98.774998     99.575001     97.970001     98.765000     98.765000   \n",
       "75%      745.264984    750.557525    740.809998    746.050003    746.050003   \n",
       "max     3147.179932   3154.260010   3143.409912   3153.629883   3153.629883   \n",
       "\n",
       "                              ndx                                            \\\n",
       "             Volume          Open          High           Low         Close   \n",
       "count  2.309200e+04  12318.000000  12318.000000  12318.000000  12318.000000   \n",
       "mean   7.282778e+08   1711.577941   1722.325066   1699.062016   1711.365630   \n",
       "std    1.427891e+09   1930.685910   1941.688048   1917.763206   1930.523938   \n",
       "min    0.000000e+00     54.869999     54.869999     54.869999     54.869999   \n",
       "25%    1.220000e+06    241.817493    242.854996    241.519993    242.439995   \n",
       "50%    1.660500e+07    919.559998    924.935028    915.955017    921.305023   \n",
       "75%    4.647950e+08   2430.750000   2451.670044   2410.342468   2431.137451   \n",
       "max    1.145623e+10   8682.009766   8705.910156   8664.040039   8705.179688   \n",
       "\n",
       "                                   \n",
       "          Adj Close        Volume  \n",
       "count  12318.000000  1.231800e+04  \n",
       "mean    1711.365630  8.884290e+08  \n",
       "std     1930.523938  9.216810e+08  \n",
       "min       54.869999  0.000000e+00  \n",
       "25%      242.439995  0.000000e+00  \n",
       "50%      921.305023  3.821950e+08  \n",
       "75%     2431.137451  1.797655e+09  \n",
       "max     8705.179688  4.553600e+09  "
      ]
     },
     "execution_count": 11,
     "metadata": {},
     "output_type": "execute_result"
    }
   ],
   "source": [
    "data.describe()"
   ]
  },
  {
   "cell_type": "markdown",
   "metadata": {},
   "source": [
    "## The Market Has Declined (On Average) Following 5-day And 10-day Highs"
   ]
  },
  {
   "cell_type": "markdown",
   "metadata": {},
   "source": [
    "Set period from January 1, 1989 to October 1, 2011"
   ]
  },
  {
   "cell_type": "code",
   "execution_count": 12,
   "metadata": {},
   "outputs": [],
   "source": [
    "start = '1989-01-01'\n",
    "end = '2011-10-01'"
   ]
  },
  {
   "cell_type": "markdown",
   "metadata": {},
   "source": [
    "SPX adjusted close prices"
   ]
  },
  {
   "cell_type": "code",
   "execution_count": 13,
   "metadata": {},
   "outputs": [],
   "source": [
    "spx_close = data.spx['Adj Close'][start:end]"
   ]
  },
  {
   "cell_type": "code",
   "execution_count": 14,
   "metadata": {},
   "outputs": [
    {
     "data": {
      "text/plain": [
       "<matplotlib.axes._subplots.AxesSubplot at 0x11b8e3160>"
      ]
     },
     "execution_count": 14,
     "metadata": {},
     "output_type": "execute_result"
    },
    {
     "data": {
      "image/png": "[encoded data removed]",
      "text/plain": [
       "<Figure size 432x288 with 1 Axes>"
      ]
     },
     "metadata": {
      "needs_background": "light"
     },
     "output_type": "display_data"
    }
   ],
   "source": [
    "spx_close.plot()"
   ]
  },
  {
   "cell_type": "markdown",
   "metadata": {},
   "source": [
    "Daily returns"
   ]
  },
  {
   "cell_type": "code",
   "execution_count": 15,
   "metadata": {},
   "outputs": [],
   "source": [
    "spx_daily_returns = spx_close.pct_change()"
   ]
  },
  {
   "cell_type": "markdown",
   "metadata": {},
   "source": [
    "Average daily returns"
   ]
  },
  {
   "cell_type": "code",
   "execution_count": 16,
   "metadata": {},
   "outputs": [
    {
     "data": {
      "text/plain": [
       "0.0003144087138078696"
      ]
     },
     "execution_count": 16,
     "metadata": {},
     "output_type": "execute_result"
    }
   ],
   "source": [
    "spx_daily_returns.mean()"
   ]
  },
  {
   "cell_type": "markdown",
   "metadata": {},
   "source": [
    "Weekly returns"
   ]
  },
  {
   "cell_type": "code",
   "execution_count": 17,
   "metadata": {},
   "outputs": [],
   "source": [
    "spx_weekly_returns = spx_close.pct_change(periods=5)"
   ]
  },
  {
   "cell_type": "markdown",
   "metadata": {},
   "source": [
    "Average weekly returns"
   ]
  },
  {
   "cell_type": "code",
   "execution_count": 18,
   "metadata": {},
   "outputs": [
    {
     "data": {
      "text/plain": [
       "0.0015302776545769482"
      ]
     },
     "execution_count": 18,
     "metadata": {},
     "output_type": "execute_result"
    }
   ],
   "source": [
    "spx_weekly_returns.mean()"
   ]
  },
  {
   "cell_type": "code",
   "execution_count": null,
   "metadata": {},
   "outputs": [],
   "source": []
  },
  {
   "cell_type": "code",
   "execution_count": null,
   "metadata": {},
   "outputs": [],
   "source": []
  },
  {
   "cell_type": "code",
   "execution_count": null,
   "metadata": {},
   "outputs": [],
   "source": []
  },
  {
   "cell_type": "code",
   "execution_count": null,
   "metadata": {},
   "outputs": [],
   "source": []
  },
  {
   "cell_type": "code",
   "execution_count": null,
   "metadata": {},
   "outputs": [],
   "source": []
  },
  {
   "cell_type": "code",
   "execution_count": null,
   "metadata": {},
   "outputs": [],
   "source": []
  },
  {
   "cell_type": "code",
   "execution_count": null,
   "metadata": {},
   "outputs": [],
   "source": []
  }
 ],
 "metadata": {
  "kernelspec": {
   "display_name": "Python 3",
   "language": "python",
   "name": "python3"
  },
  "language_info": {
   "codemirror_mode": {
    "name": "ipython",
    "version": 3
   },
   "file_extension": ".py",
   "mimetype": "text/x-python",
   "name": "python",
   "nbconvert_exporter": "python",
   "pygments_lexer": "ipython3",
   "version": "3.7.1"
  }
 },
 "nbformat": 4,
 "nbformat_minor": 2
}
